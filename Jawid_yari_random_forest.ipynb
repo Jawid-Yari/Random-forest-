{
 "cells": [
  {
   "cell_type": "code",
   "execution_count": 151,
   "id": "e893647c",
   "metadata": {},
   "outputs": [],
   "source": [
    "import pandas as pd\n",
    "import numpy as np\n",
    "from sklearn.ensemble import RandomForestClassifier\n",
    "from sklearn.model_selection import train_test_split\n",
    "from sklearn.exceptions import UndefinedMetricWarning\n",
    "from sklearn.metrics import classification_report\n",
    "from sklearn.tree import DecisionTreeClassifier\n",
    "from sklearn.metrics import accuracy_score"
   ]
  },
  {
   "cell_type": "code",
   "execution_count": 49,
   "id": "d420b5a4",
   "metadata": {},
   "outputs": [],
   "source": [
    "data = pd.read_csv('D:\\Maskininlärning\\WineQT.csv')"
   ]
  },
  {
   "cell_type": "code",
   "execution_count": 50,
   "id": "33015565",
   "metadata": {},
   "outputs": [
    {
     "data": {
      "text/html": [
       "<div>\n",
       "<style scoped>\n",
       "    .dataframe tbody tr th:only-of-type {\n",
       "        vertical-align: middle;\n",
       "    }\n",
       "\n",
       "    .dataframe tbody tr th {\n",
       "        vertical-align: top;\n",
       "    }\n",
       "\n",
       "    .dataframe thead th {\n",
       "        text-align: right;\n",
       "    }\n",
       "</style>\n",
       "<table border=\"1\" class=\"dataframe\">\n",
       "  <thead>\n",
       "    <tr style=\"text-align: right;\">\n",
       "      <th></th>\n",
       "      <th>fixed acidity</th>\n",
       "      <th>volatile acidity</th>\n",
       "      <th>citric acid</th>\n",
       "      <th>residual sugar</th>\n",
       "      <th>chlorides</th>\n",
       "      <th>free sulfur dioxide</th>\n",
       "      <th>total sulfur dioxide</th>\n",
       "      <th>density</th>\n",
       "      <th>pH</th>\n",
       "      <th>sulphates</th>\n",
       "      <th>alcohol</th>\n",
       "      <th>quality</th>\n",
       "      <th>Id</th>\n",
       "    </tr>\n",
       "  </thead>\n",
       "  <tbody>\n",
       "    <tr>\n",
       "      <th>0</th>\n",
       "      <td>7.4</td>\n",
       "      <td>0.70</td>\n",
       "      <td>0.00</td>\n",
       "      <td>1.9</td>\n",
       "      <td>0.076</td>\n",
       "      <td>11.0</td>\n",
       "      <td>34.0</td>\n",
       "      <td>0.9978</td>\n",
       "      <td>3.51</td>\n",
       "      <td>0.56</td>\n",
       "      <td>9.4</td>\n",
       "      <td>5</td>\n",
       "      <td>0</td>\n",
       "    </tr>\n",
       "    <tr>\n",
       "      <th>1</th>\n",
       "      <td>7.8</td>\n",
       "      <td>0.88</td>\n",
       "      <td>0.00</td>\n",
       "      <td>2.6</td>\n",
       "      <td>0.098</td>\n",
       "      <td>25.0</td>\n",
       "      <td>67.0</td>\n",
       "      <td>0.9968</td>\n",
       "      <td>3.20</td>\n",
       "      <td>0.68</td>\n",
       "      <td>9.8</td>\n",
       "      <td>5</td>\n",
       "      <td>1</td>\n",
       "    </tr>\n",
       "    <tr>\n",
       "      <th>2</th>\n",
       "      <td>7.8</td>\n",
       "      <td>0.76</td>\n",
       "      <td>0.04</td>\n",
       "      <td>2.3</td>\n",
       "      <td>0.092</td>\n",
       "      <td>15.0</td>\n",
       "      <td>54.0</td>\n",
       "      <td>0.9970</td>\n",
       "      <td>3.26</td>\n",
       "      <td>0.65</td>\n",
       "      <td>9.8</td>\n",
       "      <td>5</td>\n",
       "      <td>2</td>\n",
       "    </tr>\n",
       "    <tr>\n",
       "      <th>3</th>\n",
       "      <td>11.2</td>\n",
       "      <td>0.28</td>\n",
       "      <td>0.56</td>\n",
       "      <td>1.9</td>\n",
       "      <td>0.075</td>\n",
       "      <td>17.0</td>\n",
       "      <td>60.0</td>\n",
       "      <td>0.9980</td>\n",
       "      <td>3.16</td>\n",
       "      <td>0.58</td>\n",
       "      <td>9.8</td>\n",
       "      <td>6</td>\n",
       "      <td>3</td>\n",
       "    </tr>\n",
       "    <tr>\n",
       "      <th>4</th>\n",
       "      <td>7.4</td>\n",
       "      <td>0.70</td>\n",
       "      <td>0.00</td>\n",
       "      <td>1.9</td>\n",
       "      <td>0.076</td>\n",
       "      <td>11.0</td>\n",
       "      <td>34.0</td>\n",
       "      <td>0.9978</td>\n",
       "      <td>3.51</td>\n",
       "      <td>0.56</td>\n",
       "      <td>9.4</td>\n",
       "      <td>5</td>\n",
       "      <td>4</td>\n",
       "    </tr>\n",
       "  </tbody>\n",
       "</table>\n",
       "</div>"
      ],
      "text/plain": [
       "   fixed acidity  volatile acidity  citric acid  residual sugar  chlorides  \\\n",
       "0            7.4              0.70         0.00             1.9      0.076   \n",
       "1            7.8              0.88         0.00             2.6      0.098   \n",
       "2            7.8              0.76         0.04             2.3      0.092   \n",
       "3           11.2              0.28         0.56             1.9      0.075   \n",
       "4            7.4              0.70         0.00             1.9      0.076   \n",
       "\n",
       "   free sulfur dioxide  total sulfur dioxide  density    pH  sulphates  \\\n",
       "0                 11.0                  34.0   0.9978  3.51       0.56   \n",
       "1                 25.0                  67.0   0.9968  3.20       0.68   \n",
       "2                 15.0                  54.0   0.9970  3.26       0.65   \n",
       "3                 17.0                  60.0   0.9980  3.16       0.58   \n",
       "4                 11.0                  34.0   0.9978  3.51       0.56   \n",
       "\n",
       "   alcohol  quality  Id  \n",
       "0      9.4        5   0  \n",
       "1      9.8        5   1  \n",
       "2      9.8        5   2  \n",
       "3      9.8        6   3  \n",
       "4      9.4        5   4  "
      ]
     },
     "execution_count": 50,
     "metadata": {},
     "output_type": "execute_result"
    }
   ],
   "source": [
    "data.head()"
   ]
  },
  {
   "cell_type": "code",
   "execution_count": 51,
   "id": "736bac58",
   "metadata": {},
   "outputs": [],
   "source": [
    "data = data.drop('Id', axis =1)"
   ]
  },
  {
   "cell_type": "code",
   "execution_count": 52,
   "id": "f84fa17d",
   "metadata": {},
   "outputs": [],
   "source": [
    "X = data.drop('quality', axis=1)# Separera input attribut och target \n",
    "y = data['quality']"
   ]
  },
  {
   "cell_type": "code",
   "execution_count": 53,
   "id": "c17a0b8a",
   "metadata": {},
   "outputs": [],
   "source": [
    "X_train, X_test, y_train, y_test = train_test_split(X, y, test_size=0.3, random_state=100)"
   ]
  },
  {
   "cell_type": "code",
   "execution_count": 54,
   "id": "e7d1837d",
   "metadata": {},
   "outputs": [],
   "source": [
    "forest = RandomForestClassifier(random_state=42)"
   ]
  },
  {
   "cell_type": "code",
   "execution_count": 55,
   "id": "ea1a5400",
   "metadata": {},
   "outputs": [
    {
     "data": {
      "text/plain": [
       "RandomForestClassifier(random_state=42)"
      ]
     },
     "execution_count": 55,
     "metadata": {},
     "output_type": "execute_result"
    }
   ],
   "source": [
    "forest.fit(X_train, y_train)"
   ]
  },
  {
   "cell_type": "code",
   "execution_count": 56,
   "id": "4f563024",
   "metadata": {},
   "outputs": [],
   "source": [
    "train_data_score = forest.score(X_train, y_train)\n",
    "test_data_score = forest.score(X_test, y_test)"
   ]
  },
  {
   "cell_type": "code",
   "execution_count": 57,
   "id": "dcdb1ded",
   "metadata": {},
   "outputs": [
    {
     "name": "stdout",
     "output_type": "stream",
     "text": [
      "Modellen får testscore: 0.67\n"
     ]
    }
   ],
   "source": [
    "print('Modellen får testscore:', test_data_score.round(2))"
   ]
  },
  {
   "cell_type": "code",
   "execution_count": 60,
   "id": "b3365660",
   "metadata": {},
   "outputs": [
    {
     "name": "stdout",
     "output_type": "stream",
     "text": [
      "Det finns 100 träd i skogen.\n"
     ]
    }
   ],
   "source": [
    "n_trees = len(forest.estimators_)\n",
    "print('Det finns', n_trees,'träd i skogen.')"
   ]
  },
  {
   "cell_type": "code",
   "execution_count": 58,
   "id": "71b47802",
   "metadata": {},
   "outputs": [
    {
     "name": "stdout",
     "output_type": "stream",
     "text": [
      "Störst påverkan har alcohol som är 0.15\n"
     ]
    }
   ],
   "source": [
    "importances = forest.feature_importances_\n",
    "attributes = X.columns\n",
    "most_important_attribut = ''\n",
    "most_important_importance = 0\n",
    "for feature, importance in zip(attributes, importances):\n",
    "    if importance > most_important_importance:\n",
    "        most_important_attribut = feature\n",
    "        most_important_importance = importance\n",
    "        \n",
    "print(f\"Störst påverkan har {most_important_attribut} som är {most_important_importance.round(2)}\")"
   ]
  },
  {
   "cell_type": "code",
   "execution_count": 73,
   "id": "ff1fe655",
   "metadata": {},
   "outputs": [
    {
     "name": "stdout",
     "output_type": "stream",
     "text": [
      "Modellen har svårt att klassificera rätt på följande klasser: [7, 4, 8]\n"
     ]
    }
   ],
   "source": [
    "import warnings\n",
    "warnings.filterwarnings('ignore', category=UndefinedMetricWarning)\n",
    "difficult_classes = []\n",
    "report = classification_report(y_test, y_pred, output_dict=True)\n",
    "for label in y_test.unique():\n",
    "    if report[str(label)]['f1-score'] < 0.5:\n",
    "        difficult_classes.append(label)\n",
    "print('Modellen har svårt att klassificera rätt på följande klasser:', difficult_classes)"
   ]
  },
  {
   "cell_type": "markdown",
   "id": "3afbf06f",
   "metadata": {},
   "source": [
    "### Genom att göra en classification_report så kan man se att dom med lägst precision eller recall är dom klasser som modellen har störst problem med att klassificera rätt. så i detta fall vill jag säga 4, 7 och 8"
   ]
  },
  {
   "cell_type": "code",
   "execution_count": null,
   "id": "743bff85",
   "metadata": {},
   "outputs": [],
   "source": []
  },
  {
   "cell_type": "markdown",
   "id": "b966bde3",
   "metadata": {},
   "source": [
    "### I följande implementation tränar vi en uppsättning av beslutsträd, där varje träd är begränsad av parametrarna max_depth, min_samples_split och min_samples_leaf. Vi använder också bootstrap sampling för att skapa olika träningsmängder för varje träd."
   ]
  },
  {
   "cell_type": "code",
   "execution_count": 116,
   "id": "7c3591e4",
   "metadata": {},
   "outputs": [],
   "source": [
    "class RandomForest:\n",
    "    def __init__(self, n_trees= None, max_depth=None, min_samples_split=2, min_samples_leaf=1):\n",
    "        self.n_trees = n_trees\n",
    "        self.max_depth = max_depth\n",
    "        self.min_samples_split = min_samples_split\n",
    "        self.min_samples_leaf = min_samples_leaf\n",
    "        self.trees = []\n",
    "    \n",
    "    def fit(self, X, y):\n",
    "        for i in range(self.n_trees):\n",
    "            tree = DecisionTreeClassifier(max_depth=self.max_depth, \n",
    "                                          min_samples_split=self.min_samples_split,\n",
    "                                          min_samples_leaf=self.min_samples_leaf)\n",
    "            indices = random.sample(range(len(X)), len(X))\n",
    "            X_train = X.iloc[indices]\n",
    "            y_train = y.iloc[indices]\n",
    "            tree.fit(X_train, y_train)\n",
    "            self.trees.append(tree)\n",
    "    \n",
    "    def predict(self, X):\n",
    "        y_preds = []\n",
    "        for tree in self.trees:\n",
    "            y_pred = tree.predict(X)\n",
    "            y_preds.append(y_pred)\n",
    "        y_preds = np.array(y_preds)\n",
    "        return np.apply_along_axis(lambda x: np.bincount(x).argmax(), axis=0, arr=y_preds)"
   ]
  },
  {
   "cell_type": "markdown",
   "id": "bba9aae6",
   "metadata": {},
   "source": [
    "### För att använda vår egen Random Forest kan vi göra följande:"
   ]
  },
  {
   "cell_type": "code",
   "execution_count": 148,
   "id": "ddb022c3",
   "metadata": {},
   "outputs": [],
   "source": [
    "forest = RandomForest(50)\n",
    "forest.fit(X_train, y_train)"
   ]
  },
  {
   "cell_type": "code",
   "execution_count": 149,
   "id": "1b13e6c6",
   "metadata": {},
   "outputs": [
    {
     "name": "stdout",
     "output_type": "stream",
     "text": [
      "Modellen får testscore: 0.58\n",
      "Det finns 50 träd i skogen.\n"
     ]
    }
   ],
   "source": [
    "train_data_score = accuracy_score(y_train, forest.predict(X_train))\n",
    "test_data_score = accuracy_score(y_test, forest.predict(X_test))\n",
    "print('Modellen får testscore:', test_data_score.round(2))\n",
    "n_trees = len(forest.trees)\n",
    "print('Det finns', n_trees,'träd i skogen.')"
   ]
  },
  {
   "cell_type": "code",
   "execution_count": 150,
   "id": "a2105a40",
   "metadata": {},
   "outputs": [
    {
     "name": "stdout",
     "output_type": "stream",
     "text": [
      "              precision    recall  f1-score   support\n",
      "\n",
      "           3       0.00      0.00      0.00         0\n",
      "           4       0.10      0.09      0.10        11\n",
      "           5       0.67      0.69      0.68       148\n",
      "           6       0.59      0.52      0.55       145\n",
      "           7       0.43      0.54      0.48        37\n",
      "           8       0.00      0.00      0.00         2\n",
      "\n",
      "    accuracy                           0.58       343\n",
      "   macro avg       0.30      0.31      0.30       343\n",
      "weighted avg       0.59      0.58      0.58       343\n",
      "\n"
     ]
    }
   ],
   "source": [
    "report = classification_report(y_test, forest.predict(X_test))\n",
    "print(report)"
   ]
  },
  {
   "cell_type": "markdown",
   "id": "02d1d099",
   "metadata": {},
   "source": [
    "### Modellen har svårt att klassificera rätt på klasserna 3, 4, och 8. Det är inte samma klasser som modellen i godkänt delen hade svårt med.\n",
    "\n",
    "### Det är möjligt att den egna implementationen av Random Forest-skogen skiljer sig från modellen i godkänt delen på grund av att antalet beslutsträd och andra parametrar kan ha olika värden."
   ]
  },
  {
   "cell_type": "code",
   "execution_count": null,
   "id": "26b9f08c",
   "metadata": {},
   "outputs": [],
   "source": []
  }
 ],
 "metadata": {
  "kernelspec": {
   "display_name": "Python 3 (ipykernel)",
   "language": "python",
   "name": "python3"
  },
  "language_info": {
   "codemirror_mode": {
    "name": "ipython",
    "version": 3
   },
   "file_extension": ".py",
   "mimetype": "text/x-python",
   "name": "python",
   "nbconvert_exporter": "python",
   "pygments_lexer": "ipython3",
   "version": "3.9.13"
  }
 },
 "nbformat": 4,
 "nbformat_minor": 5
}
